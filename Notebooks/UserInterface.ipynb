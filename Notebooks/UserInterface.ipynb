{
 "cells": [
  {
   "cell_type": "code",
   "execution_count": 47,
   "metadata": {},
   "outputs": [],
   "source": [
    "import pickle\n",
    "from numpy import asarray\n",
    "import datetime as dt\n",
    "import pandas as pd"
   ]
  },
  {
   "cell_type": "code",
   "execution_count": 48,
   "metadata": {},
   "outputs": [],
   "source": [
    "filename = '../Models/finalized_model.sav'\n",
    "loaded_model = pickle.load(open(filename, 'rb'))"
   ]
  },
  {
   "cell_type": "code",
   "execution_count": 49,
   "metadata": {},
   "outputs": [],
   "source": [
    "df = pd.DataFrame({'SettledDate': [date.today().strftime(\"%m/%d/%y\")]})"
   ]
  },
  {
   "cell_type": "code",
   "execution_count": 50,
   "metadata": {},
   "outputs": [],
   "source": [
    "df['SettledDate'] = pd.to_datetime(df['SettledDate'])\n",
    "df['SettledDate'] = df['SettledDate'].map(dt.datetime.toordinal)"
   ]
  },
  {
   "cell_type": "code",
   "execution_count": 53,
   "metadata": {},
   "outputs": [
    {
     "name": "stdout",
     "output_type": "stream",
     "text": [
      "In what zip code would you like your home to be?21090\n",
      "How many acres would you like your home to sit on?.2\n",
      "Roughly in what year would you like your home to have been built?2020\n",
      "How much interior square footage would you like to have?2000\n",
      "How many bedrooms would you like to have?3\n",
      "How many full bathrooms would you like to have?2\n",
      "How many half bathrooms would you like to have?1\n",
      "How many garage spaces would you like to have?2\n",
      "In what county would you like your home to be in? (Anne Arundel, Baltimore, Harford, Howard)Anne Arundel\n",
      "Would you like a basement? (yes/no)yes\n",
      "Would you like a fireplace? (yes/no)no\n",
      "Would you like a central air? (yes/no)yes\n",
      "Would you like waterfront? (yes/no)no\n",
      "Would you like new construction? (yes/no)no\n",
      "It is predicted that your home will cost: $636,147.88\n"
     ]
    }
   ],
   "source": [
    "homePreferences = []\n",
    "homePreferences.append(df['SettledDate'][0])\n",
    "\n",
    "zipCode = int(input(\"In what zip code would you like your home to be?\"))\n",
    "homePreferences.append(zipCode)\n",
    "\n",
    "acres = float(input(\"How many acres would you like your home to sit on?\"))\n",
    "homePreferences.append(acres)\n",
    "\n",
    "age = int(input(\"Roughly in what year would you like your home to have been built?\"))\n",
    "homePreferences.append(age)\n",
    "\n",
    "interiorSqft = float(input(\"How much interior square footage would you like to have?\"))\n",
    "homePreferences.append(interiorSqft)\n",
    "\n",
    "numBedrooms = float(input(\"How many bedrooms would you like to have?\"))\n",
    "homePreferences.append(numBedrooms)\n",
    "\n",
    "numFullBaths = float(input(\"How many full bathrooms would you like to have?\"))\n",
    "homePreferences.append(numFullBaths)\n",
    "\n",
    "numHalfBaths = float(input(\"How many half bathrooms would you like to have?\"))\n",
    "homePreferences.append(numHalfBaths)\n",
    "\n",
    "numGarageSpaces = float(input(\"How many garage spaces would you like to have?\"))\n",
    "homePreferences.append(numGarageSpaces)\n",
    "\n",
    "county = input(\"In what county would you like your home to be in? (Anne Arundel, Baltimore, Harford, Howard)\")\n",
    "if county == \"Anne Arundel\":\n",
    "    homePreferences.append(1)\n",
    "    homePreferences.append(0)\n",
    "    homePreferences.append(0)\n",
    "    homePreferences.append(0)\n",
    "elif county == \"Baltimore\":\n",
    "    homePreferences.append(0)\n",
    "    homePreferences.append(1)\n",
    "    homePreferences.append(0)\n",
    "    homePreferences.append(0)\n",
    "elif county == \"Harford\":\n",
    "    homePreferences.append(0)\n",
    "    homePreferences.append(0)\n",
    "    homePreferences.append(1)\n",
    "    homePreferences.append(0)\n",
    "else:\n",
    "    homePreferences.append(0)\n",
    "    homePreferences.append(0)\n",
    "    homePreferences.append(0)\n",
    "    homePreferences.append(1)\n",
    "    \n",
    "basement = input(\"Would you like a basement? (yes/no)\")\n",
    "if basement == \"yes\":\n",
    "    homePreferences.append(0)\n",
    "    homePreferences.append(1)\n",
    "elif basement == \"no\":\n",
    "    homePreferences.append(1)\n",
    "    homePreferences.append(0)\n",
    "    \n",
    "fireplace = input(\"Would you like a fireplace? (yes/no)\")\n",
    "if fireplace == \"yes\":\n",
    "    homePreferences.append(0)\n",
    "    homePreferences.append(1)\n",
    "elif fireplace == \"no\":\n",
    "    homePreferences.append(1)\n",
    "    homePreferences.append(0)\n",
    "    \n",
    "centralAir = input(\"Would you like a central air? (yes/no)\")\n",
    "if centralAir == \"yes\":\n",
    "    homePreferences.append(0)\n",
    "    homePreferences.append(1)\n",
    "elif centralAir == \"no\":\n",
    "    homePreferences.append(1)\n",
    "    homePreferences.append(0)\n",
    "\n",
    "waterfront = input(\"Would you like waterfront? (yes/no)\")\n",
    "if waterfront == \"yes\":\n",
    "    homePreferences.append(0)\n",
    "    homePreferences.append(1)\n",
    "elif waterfront == \"no\":\n",
    "    homePreferences.append(1)\n",
    "    homePreferences.append(0)\n",
    "\n",
    "newConstruction = input(\"Would you like new construction? (yes/no)\")\n",
    "if newConstruction == \"yes\":\n",
    "    homePreferences.append(0)\n",
    "    homePreferences.append(1)\n",
    "elif newConstruction == \"no\":\n",
    "    homePreferences.append(1)\n",
    "    homePreferences.append(0)\n",
    "\n",
    "data = asarray([homePreferences])\n",
    "pred = loaded_model.predict(data)\n",
    "\n",
    "formatted_float = \"${:,.2f}\".format(pred[0])\n",
    "\n",
    "print(\"It is predicted that your home will cost: \" + formatted_float)\n",
    "\n"
   ]
  },
  {
   "cell_type": "code",
   "execution_count": null,
   "metadata": {},
   "outputs": [],
   "source": []
  }
 ],
 "metadata": {
  "kernelspec": {
   "display_name": "Python 3",
   "language": "python",
   "name": "python3"
  },
  "language_info": {
   "codemirror_mode": {
    "name": "ipython",
    "version": 3
   },
   "file_extension": ".py",
   "mimetype": "text/x-python",
   "name": "python",
   "nbconvert_exporter": "python",
   "pygments_lexer": "ipython3",
   "version": "3.8.5"
  }
 },
 "nbformat": 4,
 "nbformat_minor": 4
}
